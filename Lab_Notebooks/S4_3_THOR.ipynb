{
  "nbformat": 4,
  "nbformat_minor": 0,
  "metadata": {
    "colab": {
      "name": "Copy of S4_3_THOR.ipynb",
      "provenance": [],
      "collapsed_sections": [],
      "include_colab_link": true
    },
    "kernelspec": {
      "name": "python3",
      "display_name": "Python 3"
    },
    "language_info": {
      "name": "python"
    }
  },
  "cells": [
    {
      "cell_type": "markdown",
      "metadata": {
        "id": "view-in-github",
        "colab_type": "text"
      },
      "source": [
        "<a href=\"https://colab.research.google.com/github/isabelntho/2022_ML_Earth_Env_Sci/blob/main/Lab_Notebooks/S4_3_THOR.ipynb\" target=\"_parent\"><img src=\"https://colab.research.google.com/assets/colab-badge.svg\" alt=\"Open In Colab\"/></a>"
      ]
    },
    {
      "cell_type": "markdown",
      "source": [
        "<img src='https://unils-my.sharepoint.com/:i:/g/personal/tom_beucler_unil_ch/ESLP1e1BfUxKu-hchh7wZKcBZiG3bJnNbnt0PDDm3BK-9g?download=1'>\n",
        "\n",
        "<center> \n",
        "Photo Credits: <a href=\"https://unsplash.com/photos/zCMWw56qseM\">Sea Foam</a> by <a href=\"https://unsplash.com/@unstable_affliction\">Ivan Bandura</a> licensed under the <a href='https://unsplash.com/license'>Unsplash License</a> \n",
        "</center>\n",
        "\n",
        "\n",
        ">*A frequently asked question related to this work is “Which mixing processes matter most for climate?” As with many alluringly comprehensive sounding questions, the answer is “it depends.”* <br>\n",
        "> $\\qquad$ MacKinnon, Jennifer A., et al. <br>$\\qquad$\"Climate process team on internal wave–driven ocean mixing.\" <br>$\\qquad$ Bulletin of the American Meteorological Society 98.11 (2017): 2429-2454."
      ],
      "metadata": {
        "id": "dUurnKLqq1un"
      }
    },
    {
      "cell_type": "markdown",
      "source": [
        "In week 4's final notebook, we will perform clustering to identify regimes in data taken from the realistic numerical ocean model [Estimating the Circulation and Climate of the Ocean](https://www.ecco-group.org/products-ECCO-V4r4.htm). Sonnewald et al. point out that finding robust regimes is intractable with a naïve approach, so we will be using using reduced dimensionality data. \n",
        "\n",
        "It is worth pointing out, however, that the reduction was done with an equation instead of one of the algorithms we discussed this week. If you're interested in the full details, you can check out [Sonnewald et al. (2019)](https://doi.org/10.1029/2018EA000519)"
      ],
      "metadata": {
        "id": "yT4KFNrpZIfY"
      }
    },
    {
      "cell_type": "markdown",
      "source": [
        "# Setup"
      ],
      "metadata": {
        "id": "PHKbQVLOUC5v"
      }
    },
    {
      "cell_type": "markdown",
      "source": [
        "First, let's import a few common modules, ensure MatplotLib plots figures inline and prepare a function to save the figures. We also check that Python 3.5 or later is installed (although Python 2.x may work, it is deprecated so we strongly recommend you use Python 3 instead), as well as Scikit-Learn ≥0.20."
      ],
      "metadata": {
        "id": "4TxieA70pcLo"
      }
    },
    {
      "cell_type": "code",
      "execution_count": null,
      "metadata": {
        "id": "S61_Smb9T6ad"
      },
      "outputs": [],
      "source": [
        "# Python ≥3.5 is required\n",
        "import sys\n",
        "assert sys.version_info >= (3, 5)\n",
        "\n",
        "# Scikit-Learn ≥0.20 is required\n",
        "import sklearn\n",
        "assert sklearn.__version__ >= \"0.20\"\n",
        "\n",
        "# Common imports\n",
        "import numpy as np\n",
        "import os\n",
        "import xarray as xr\n",
        "import pooch\n",
        "\n",
        "# to make this notebook's output stable across runs\n",
        "rnd_seed = 42\n",
        "rnd_gen = np.random.default_rng(rnd_seed)\n",
        "\n",
        "# To plot pretty figures\n",
        "%matplotlib inline\n",
        "import matplotlib as mpl\n",
        "import matplotlib.pyplot as plt\n",
        "mpl.rc('axes', labelsize=14)\n",
        "mpl.rc('xtick', labelsize=12)\n",
        "mpl.rc('ytick', labelsize=12)\n",
        "\n",
        "# Where to save the figures\n",
        "PROJECT_ROOT_DIR = \".\"\n",
        "CHAPTER_ID = \"dim_reduction\"\n",
        "IMAGES_PATH = os.path.join(PROJECT_ROOT_DIR, \"images\", CHAPTER_ID)\n",
        "os.makedirs(IMAGES_PATH, exist_ok=True)\n",
        "\n",
        "def save_fig(fig_id, tight_layout=True, fig_extension=\"png\", resolution=300):\n",
        "    path = os.path.join(IMAGES_PATH, fig_id + \".\" + fig_extension)\n",
        "    print(\"Saving figure\", fig_id)\n",
        "    if tight_layout:\n",
        "        plt.tight_layout()\n",
        "    plt.savefig(path, format=fig_extension, dpi=resolution)"
      ]
    },
    {
      "cell_type": "markdown",
      "source": [
        "Here we're going to import the [StandardScaler](https://duckduckgo.com/sklearn.preprocessing.standardscaler) function from scikit's preprocessing tools, import the [scikit clustering library](https://duckduckgo.com/sklearn.clustering), and set up the colormap that we will use when plotting."
      ],
      "metadata": {
        "id": "6vUFq1DYUqCx"
      }
    },
    {
      "cell_type": "code",
      "source": [
        "from sklearn.preprocessing import StandardScaler\n",
        "import sklearn.cluster as cluster\n",
        "\n",
        "from matplotlib.colors import LinearSegmentedColormap, ListedColormap\n",
        "colors = ['royalblue', 'cyan','yellow', 'orange', 'magenta', 'red']\n",
        "mycmap = ListedColormap(colors)"
      ],
      "metadata": {
        "id": "34PAL9TkUHd_"
      },
      "execution_count": null,
      "outputs": []
    },
    {
      "cell_type": "markdown",
      "source": [
        "# Data Preprocessing"
      ],
      "metadata": {
        "id": "Fr46ZRUjpTzo"
      }
    },
    {
      "cell_type": "markdown",
      "source": [
        "The first thing we need to do is retrieve the list of files we'll be working on. We'll rely on pooch to access the files hosted on the cloud."
      ],
      "metadata": {
        "id": "O9QOXpKGpgt7"
      }
    },
    {
      "cell_type": "code",
      "source": [
        "# Retrieve the files from the cloud using Pooch.\n",
        "data_url = 'https://unils-my.sharepoint.com/:u:/g/personal/tom_beucler_unil_ch/EUYqUzpIjoJBui02QEo6q1wBSN1Zsi1ofE6I3G4B9LJn_Q?download=1'\n",
        "hash = '3f41661c7a087fa7d7af1d2a8baf95c065468f8a415b8514baedda2f5bc18bb5'\n",
        "\n",
        "files = pooch.retrieve(data_url, known_hash=hash, processor=pooch.Unzip())\n",
        "[print(filename) for filename in files];"
      ],
      "metadata": {
        "id": "nDNJnzOAfKE_",
        "colab": {
          "base_uri": "https://localhost:8080/"
        },
        "outputId": "68d8cb94-27e2-472f-8847-5bb80b1bfcf3"
      },
      "execution_count": null,
      "outputs": [
        {
          "output_type": "stream",
          "name": "stderr",
          "text": [
            "Downloading data from 'https://unils-my.sharepoint.com/:u:/g/personal/tom_beucler_unil_ch/EUYqUzpIjoJBui02QEo6q1wBSN1Zsi1ofE6I3G4B9LJn_Q?download=1' to file '/root/.cache/pooch/8a10ee1ae6941d8b9bb543c954c793fa-EUYqUzpIjoJBui02QEo6q1wBSN1Zsi1ofE6I3G4B9LJn_Q'.\n",
            "Unzipping contents of '/root/.cache/pooch/8a10ee1ae6941d8b9bb543c954c793fa-EUYqUzpIjoJBui02QEo6q1wBSN1Zsi1ofE6I3G4B9LJn_Q' to '/root/.cache/pooch/8a10ee1ae6941d8b9bb543c954c793fa-EUYqUzpIjoJBui02QEo6q1wBSN1Zsi1ofE6I3G4B9LJn_Q.unzip'\n"
          ]
        },
        {
          "output_type": "stream",
          "name": "stdout",
          "text": [
            "/root/.cache/pooch/8a10ee1ae6941d8b9bb543c954c793fa-EUYqUzpIjoJBui02QEo6q1wBSN1Zsi1ofE6I3G4B9LJn_Q.unzip/curlTau.npy\n",
            "/root/.cache/pooch/8a10ee1ae6941d8b9bb543c954c793fa-EUYqUzpIjoJBui02QEo6q1wBSN1Zsi1ofE6I3G4B9LJn_Q.unzip/BPT.npy\n",
            "/root/.cache/pooch/8a10ee1ae6941d8b9bb543c954c793fa-EUYqUzpIjoJBui02QEo6q1wBSN1Zsi1ofE6I3G4B9LJn_Q.unzip/curlB.npy\n",
            "/root/.cache/pooch/8a10ee1ae6941d8b9bb543c954c793fa-EUYqUzpIjoJBui02QEo6q1wBSN1Zsi1ofE6I3G4B9LJn_Q.unzip/curlA.npy\n",
            "/root/.cache/pooch/8a10ee1ae6941d8b9bb543c954c793fa-EUYqUzpIjoJBui02QEo6q1wBSN1Zsi1ofE6I3G4B9LJn_Q.unzip/noiseMask.npy\n",
            "/root/.cache/pooch/8a10ee1ae6941d8b9bb543c954c793fa-EUYqUzpIjoJBui02QEo6q1wBSN1Zsi1ofE6I3G4B9LJn_Q.unzip/curlCori.npy\n"
          ]
        }
      ]
    },
    {
      "cell_type": "markdown",
      "source": [
        "And now that we have a set of files to load, let's set up a dictionary with the variable names as keys and the data in numpy array format as the values."
      ],
      "metadata": {
        "id": "bZxAvW1gBbO1"
      }
    },
    {
      "cell_type": "code",
      "source": [
        "# Let's read in the variable names from the filepaths\n",
        "var_names = []\n",
        "[var_names.append(path.split('/')[-1][:-4]) for path in files]\n",
        "\n",
        "# And build a dictionary of the data variables keyed to the filenames\n",
        "data_dict = {}\n",
        "for idx, val in enumerate(var_names):\n",
        "    data_dict[val] = np.load(files[idx]).T\n",
        "\n",
        "#We'll print the name of the variable loaded and the associated shape \n",
        "[print(f'Varname: {item[0]:<15} Shape: {item[1].shape}') for item in data_dict.items()];"
      ],
      "metadata": {
        "id": "b8OmoBGHBkwG",
        "colab": {
          "base_uri": "https://localhost:8080/"
        },
        "outputId": "dad9461f-6a76-46c0-ca37-bab73ffcb016"
      },
      "execution_count": null,
      "outputs": [
        {
          "output_type": "stream",
          "name": "stdout",
          "text": [
            "Varname: curlTau         Shape: (360, 720)\n",
            "Varname: BPT             Shape: (360, 720)\n",
            "Varname: curlB           Shape: (360, 720)\n",
            "Varname: curlA           Shape: (360, 720)\n",
            "Varname: noiseMask       Shape: (360, 720)\n",
            "Varname: curlCori        Shape: (360, 720)\n"
          ]
        }
      ]
    },
    {
      "cell_type": "markdown",
      "source": [
        "We now have a dictionary that uses the filename as the key! Feel free to explore the data (e.g., loading the keys, checking the shape of the arrays, plotting)"
      ],
      "metadata": {
        "id": "RMbhwWTunLvz"
      }
    },
    {
      "cell_type": "code",
      "source": [
        "#Feel free to explore the data dictionary\n",
        "data_dict[\"curlTau\"].shape\n",
        "data_dict[\"noiseMask\"].shape"
      ],
      "metadata": {
        "id": "rG2pgeH5pB4f",
        "colab": {
          "base_uri": "https://localhost:8080/"
        },
        "outputId": "60004708-dd2e-4edb-dead-c91e2b708b88"
      },
      "execution_count": null,
      "outputs": [
        {
          "output_type": "execute_result",
          "data": {
            "text/plain": [
              "(360, 720)"
            ]
          },
          "metadata": {},
          "execution_count": 7
        }
      ]
    },
    {
      "cell_type": "markdown",
      "source": [
        "We're eventually going to have an array of cluster classes that we're going to use to label dynamic regimes in the ocean. Let's make an array full of NaN (not-a-number) values that has the same shape as our other variables and store it in the data dictionary. "
      ],
      "metadata": {
        "id": "xXwnzzbRtTYs"
      }
    },
    {
      "cell_type": "code",
      "source": [
        "data_dict['clusters'] = np.full_like(data_dict['BPT'],np.nan)"
      ],
      "metadata": {
        "id": "4VYRgr0cuHKg"
      },
      "execution_count": null,
      "outputs": []
    },
    {
      "cell_type": "markdown",
      "source": [
        "### Reformatting as Xarray"
      ],
      "metadata": {
        "id": "pCumDPFEpFcf"
      }
    },
    {
      "cell_type": "markdown",
      "source": [
        "In the original paper, this data was loaded as numpy arrays. However, we'll take this opportunity to demonstrate the same procedure while relying on xarray. First, let's instantiate a blank dataset.<br><br>\n",
        "\n",
        "###**Q1) Make a blank xarray dataset.**<br>\n",
        "*Hint: Look at the xarray [documentation](https://duckduckgo.com/?q=xarray+dataset)*"
      ],
      "metadata": {
        "id": "vz_vQOCguax0"
      }
    },
    {
      "cell_type": "code",
      "source": [
        "# Make your blank dataset here! Instantiate the class without passing any parameters.\n",
        "ds = xr.Dataset()"
      ],
      "metadata": {
        "id": "JIPsLT6g-INq"
      },
      "execution_count": null,
      "outputs": []
    },
    {
      "cell_type": "markdown",
      "source": [
        "<img src='https://unils-my.sharepoint.com/:i:/g/personal/tom_beucler_unil_ch/EZv_qqVz_h1Hio6Nq11ckScBb01bGb9jtNKzdqAg1TPrKQ?download=1'>\n",
        "<center> Image taken from the xarray <a href='https://xarray.pydata.org/en/stable/user-guide/data-structures.html#:~:text=Dataset-,xarray.,from%20the%20netCDF%20file%20format.'> <i>Data Structure documentation</i> </a> </center>\n",
        "\n",
        "In order to build the dataset, we're going to need a set of coordinate vectors that help us map out our data! For our data, we have two axes corresponding to longitude ($\\lambda$) and latitude ($\\phi$). \n",
        "\n",
        "We don't know much about how many lat/lon points we have, so let's explore one of the variables to make sense of the data the shape of one of the numpy arrays.\n",
        "\n",
        "###**Q2) Visualize the data using a plot and printing the shape of the data to the console output.**"
      ],
      "metadata": {
        "id": "jJK9Ud9tp3_r"
      }
    },
    {
      "cell_type": "code",
      "source": [
        "#Complete the code\n",
        "# Let's print out an image of the Bottom Pressure Torques (BPT)\n",
        "plt.imshow( data_dict[\"BPT\"] , origin='lower')"
      ],
      "metadata": {
        "id": "Kiw2tAT1D6Ny",
        "colab": {
          "base_uri": "https://localhost:8080/",
          "height": 235
        },
        "outputId": "d8146c20-f305-44ed-a2e2-2884e5690af8"
      },
      "execution_count": null,
      "outputs": [
        {
          "output_type": "execute_result",
          "data": {
            "text/plain": [
              "<matplotlib.image.AxesImage at 0x7fadf3366dd0>"
            ]
          },
          "metadata": {},
          "execution_count": 11
        },
        {
          "output_type": "display_data",
          "data": {
            "text/plain": [
              "<Figure size 432x288 with 1 Axes>"
            ],
            "image/png": "[encoded data removed]"
          },
          "metadata": {
            "needs_background": "light"
          }
        }
      ]
    },
    {
      "cell_type": "code",
      "source": [
        "# It will also be useful to store and print out the shape of the data\n",
        "data_shape = data_dict[\"BPT\"].shape\n",
        "print(data_shape)"
      ],
      "metadata": {
        "id": "k6E_4MivCoWQ",
        "colab": {
          "base_uri": "https://localhost:8080/"
        },
        "outputId": "da770826-40c4-47de-f630-3e4a6bffbe0b"
      },
      "execution_count": null,
      "outputs": [
        {
          "output_type": "stream",
          "name": "stdout",
          "text": [
            "(360, 720)\n"
          ]
        }
      ]
    },
    {
      "cell_type": "markdown",
      "source": [
        "Now that we know how the resolution of our data, we can prepare a set of axis arrays. We will use these to organize the data we will feed into the dataset.\n",
        "\n",
        "###**Q3) Prepare the latitude and longitude arrays to be used as axes for our dataset**\n",
        "\n",
        "*Hint 1: You can build ordered numpy arrays using, e.g., [numpy.linspace](https://numpy.org/doc/stable/reference/generated/numpy.linspace.html) and [numpy.arange](https://numpy.org/doc/stable/reference/generated/numpy.arange.html)*\n",
        "\n",
        "*Hint 2: You can rely on the data_shape variable we loaded previously to know how many points you need along each axis*"
      ],
      "metadata": {
        "id": "aXyxepjm-N5z"
      }
    },
    {
      "cell_type": "code",
      "source": [
        "#Complete the code\n",
        "# Let's prepare the lat and lon axes for our data.\n",
        "lat = np.linspace(-90,90,360)\n",
        "lon = np.linspace(-180,180,720)"
      ],
      "metadata": {
        "id": "vwzO0ZWMNHKg"
      },
      "execution_count": null,
      "outputs": []
    },
    {
      "cell_type": "markdown",
      "source": [
        "Now that we have the axes we need, we can build xarray [*data arrays*](https://xarray.pydata.org/en/stable/generated/xarray.DataArray.html) for each data variable. Since we'll be doing it several times, let's go ahead and defined a function that does this for us!\n",
        "\n",
        "###**Q4) Define a function that takes in: 1) an array name, 2) a numpy array, 3) a lat vector, and 4) a lon vector. The function should return a dataArray with lat-lon as the coordinate dimensions**"
      ],
      "metadata": {
        "id": "yxnAU_gjOqVo"
      }
    },
    {
      "cell_type": "code",
      "source": [
        "#Complete the code\n",
        "def np_to_xr(array_name, array, lat, lon):\n",
        "    #building the xarrray\n",
        "    da = xr.DataArray(data = array, # Data to be stored\n",
        "                  \n",
        "                  #set the name of dimensions for the dataArray \n",
        "                  dims = ['lat', 'lon'],\n",
        "                  \n",
        "                  #Set the dictionary pointing the name dimensions to np arrays \n",
        "                  coords = {'lat':lat,\n",
        "                            'lon':lon},\n",
        "                      \n",
        "                  name=array_name)\n",
        "    return da"
      ],
      "metadata": {
        "id": "7FCXLhYfPiQD"
      },
      "execution_count": null,
      "outputs": []
    },
    {
      "cell_type": "markdown",
      "source": [
        "We're now ready to build our data array! Let's iterate through the items and merge our blank dataset with the data arrays we create.\n",
        "\n",
        "###**Q5) Build the dataset from the data dictionary**\n",
        "\n",
        "*Hint: We'll be using the xarray merge command to put everything together.*"
      ],
      "metadata": {
        "id": "l9xgQaM9Rrv1"
      }
    },
    {
      "cell_type": "code",
      "source": [
        "# The code in the notebook assumes you named your dataset ds. Change it to \n",
        "# whatever you used!\n",
        "\n",
        "# Complete the code\n",
        "for key, item in data_dict.items():\n",
        "    # Let's make use of our np_to_xr function to get the data as a dataArray\n",
        "    da = np_to_xr(key, item, lat, lon)\n",
        "    print(da.name)\n",
        "    # Merge the dataSet with the dataArray here!\n",
        "    ds = xr.merge( [ds , da] )"
      ],
      "metadata": {
        "id": "4pLXUfvLSZKf",
        "colab": {
          "base_uri": "https://localhost:8080/"
        },
        "outputId": "58d151ce-991a-4912-8ac7-8daf8ddb3182"
      },
      "execution_count": null,
      "outputs": [
        {
          "output_type": "stream",
          "name": "stdout",
          "text": [
            "curlTau\n",
            "BPT\n",
            "curlB\n",
            "curlA\n",
            "noiseMask\n",
            "curlCori\n",
            "clusters\n"
          ]
        }
      ]
    },
    {
      "cell_type": "markdown",
      "source": [
        "Congratulations! You should now have a nicely set up xarray dataset. This let's you access a ton of nice features, e.g.:\n",
        "> Data plotting by calling, e.g., `ds.BPT.plot.imshow(cmap='ocean')`\n",
        "> \n",
        "> Find statistical measures of all variables at once! (e.g.: `ds.std()`, `ds.mean()`)"
      ],
      "metadata": {
        "id": "aC1Gq_q7WEWc"
      }
    },
    {
      "cell_type": "code",
      "source": [
        "# Play around with the dataset here if you'd like :)\n",
        "ds.BPT.plot.imshow(cmap='ocean')\n",
        "print(ds.std())\n",
        "print(ds.mean())"
      ],
      "metadata": {
        "id": "uag0JpWzaaS-",
        "colab": {
          "base_uri": "https://localhost:8080/",
          "height": 639
        },
        "outputId": "6438925b-285c-4abb-da08-8981d195e778"
      },
      "execution_count": null,
      "outputs": [
        {
          "output_type": "stream",
          "name": "stdout",
          "text": [
            "<xarray.Dataset>\n",
            "Dimensions:    ()\n",
            "Data variables:\n",
            "    curlTau    float64 1.455e-10\n",
            "    BPT        float64 2.161e-09\n",
            "    curlB      float64 1.529e-10\n",
            "    curlA      float64 9.017e-10\n",
            "    noiseMask  float64 0.0\n",
            "    curlCori   float64 2.123e-09\n",
            "    clusters   float64 nan\n",
            "<xarray.Dataset>\n",
            "Dimensions:    ()\n",
            "Data variables:\n",
            "    curlTau    float64 -1.696e-11\n",
            "    BPT        float64 1.02e-11\n",
            "    curlB      float64 2.928e-13\n",
            "    curlA      float64 -1.287e-12\n",
            "    noiseMask  float64 1.0\n",
            "    curlCori   float64 7.743e-12\n",
            "    clusters   float64 nan\n"
          ]
        },
        {
          "output_type": "display_data",
          "data": {
            "text/plain": [
              "<Figure size 432x288 with 2 Axes>"
            ],
            "image/png": "[encoded data removed]"
          },
          "metadata": {
            "needs_background": "light"
          }
        }
      ]
    },
    {
      "cell_type": "markdown",
      "source": [
        "Now we want to find clusters of data considering each grid point as a datapoint with 5 dimensional data. However, we went through a lot of work to get the data nicely associated with a lat and lon - do we really want to undo that?\n",
        "\n",
        "Luckily, xarray develops foresaw the need to group dimensions together. Let's create a 'flat' version of our dataset using the [`stack`](https://xarray.pydata.org/en/stable/generated/xarray.DataArray.stack.html) method. Let's make a flattened version of our dataset.\n",
        "\n",
        "###**Q6) Store a flattened version of our dataset**\n",
        "\n",
        "*Hint 1: You'll need to pass a dictionary with the 'new' stacked dimension name as the key and the 'flattened' dimensions as the values.*\n",
        "\n",
        "*Hint 2: xarrays have a ['.values' attribute](https://xarray.pydata.org/en/stable/generated/xarray.DataArray.values.html) that return their data as a numpy array.*"
      ],
      "metadata": {
        "id": "vEfuD2O8aZ4w"
      }
    },
    {
      "cell_type": "code",
      "source": [
        "# Complete the code\n",
        "# Let's store the stacked version of our dataset\n",
        "stacked = ds.stack( z =('lon' , 'lat'))"
      ],
      "metadata": {
        "id": "G4e2NDipb0Tr"
      },
      "execution_count": null,
      "outputs": []
    },
    {
      "cell_type": "code",
      "source": [
        "# And verify the shape of our data\n",
        "print(stacked.to_array().values.shape)"
      ],
      "metadata": {
        "id": "UQt4-fFACtUm",
        "colab": {
          "base_uri": "https://localhost:8080/"
        },
        "outputId": "864b76ee-fa51-45fe-80b7-7f9af19d6f90"
      },
      "execution_count": null,
      "outputs": [
        {
          "output_type": "stream",
          "name": "stdout",
          "text": [
            "(7, 259200)\n"
          ]
        }
      ]
    },
    {
      "cell_type": "markdown",
      "source": [
        "So far we've ignored an important point - we're supposed to have 5 variables, not 6! As you may have guessed, `noiseMask` helps us throw away data we dont want (e.g., from land mass or bad pixels). \n",
        "\n",
        "We're now going to clean up the stacked dataset using the noise mask. Relax and read through the code, since there won't be a question in this part :) "
      ],
      "metadata": {
        "id": "MZGPnmooffKy"
      }
    },
    {
      "cell_type": "code",
      "source": [
        "# Let's redefine stacked as all the points where noiseMask = 1, since noisemask\n",
        "# is binary data.\n",
        "\n",
        "print(f'Dataset shape before processing: {stacked.to_array().values.shape}')\n",
        "\n",
        "print(\"Let's do some data cleaning!\")\n",
        "print(f'Points before cleaning: {len(stacked.BPT)}')\n",
        "stacked = stacked.where(stacked.noiseMask==1, drop=True)\n",
        "print(f'Points after cleaning: {len(stacked.BPT)}')"
      ],
      "metadata": {
        "id": "sbXscaE_fcOj",
        "colab": {
          "base_uri": "https://localhost:8080/"
        },
        "outputId": "e416d646-db66-4785-c9f0-295dde99f72e"
      },
      "execution_count": null,
      "outputs": [
        {
          "output_type": "stream",
          "name": "stdout",
          "text": [
            "Dataset shape before processing: (7, 259200)\n",
            "Let's do some data cleaning!\n",
            "Points before cleaning: 259200\n",
            "Points after cleaning: 149714\n"
          ]
        }
      ]
    },
    {
      "cell_type": "code",
      "source": [
        "# We also no longer need the noiseMask variable, so we can just drop it.\n",
        "\n",
        "print('And drop the noisemask variable...')\n",
        "print(f'Before dropping: {stacked.to_array().values.shape}')\n",
        "stacked = stacked.drop('noiseMask')\n",
        "print(f'Dataset shape after processing: {stacked.to_array().values.shape}')"
      ],
      "metadata": {
        "id": "crX5HoD3C3Ls",
        "colab": {
          "base_uri": "https://localhost:8080/"
        },
        "outputId": "e63b4014-c1ea-43ec-b355-1f3ed5135484"
      },
      "execution_count": null,
      "outputs": [
        {
          "output_type": "stream",
          "name": "stdout",
          "text": [
            "And drop the noisemask variable...\n",
            "Before dropping: (7, 149714)\n",
            "Dataset shape after processing: (6, 149714)\n"
          ]
        }
      ]
    },
    {
      "cell_type": "markdown",
      "source": [
        "We now have several thousand points which we want to divide into clusters using the kmeans clustering algorithm (you can check out the documentation for scikit's implementation of kmeans [here](https://scikit-learn.org/stable/modules/generated/sklearn.cluster.KMeans.html)).\n",
        "\n",
        "You'll note that the algorithm expects the input data `X` to be fed as `(n_samples, n_features)`. This is the opposite of what we have! Let's go ahead and make a copy to a numpy array has the axes in the right order.\n",
        "\n",
        "You'll need xarray's [`.to_array()`](https://xarray.pydata.org/en/stable/generated/xarray.Dataset.to_array.html) method and [`.values`](https://xarray.pydata.org/en/stable/generated/xarray.DataArray.values.html) parameter, as well as numpy's [`.moveaxis`](https://numpy.org/doc/stable/reference/generated/numpy.moveaxis.html) method.\n",
        "\n",
        "###**Q7) Load the datapoints into a numpy array following the convention where the 0th axis corresponds to the samples and the 1st axis corresponds to the features.** "
      ],
      "metadata": {
        "id": "5Pol90vsU_wv"
      }
    },
    {
      "cell_type": "code",
      "source": [
        "# Complete the code\n",
        "input_data = np.moveaxis(stacked.to_array().values,  # data to reshape\n",
        "                         1,          # source axis as integer, \n",
        "                         0)          # destination axis as integer"
      ],
      "metadata": {
        "id": "uu0AVVkPeTzC"
      },
      "execution_count": null,
      "outputs": []
    },
    {
      "cell_type": "code",
      "source": [
        "# Does the input data look the way it's supposed to? Print the shape.\n",
        "print(input_data.shape)"
      ],
      "metadata": {
        "id": "Vi9GZ-XsC6Nd",
        "colab": {
          "base_uri": "https://localhost:8080/"
        },
        "outputId": "7898b4c4-07ac-43a5-a293-17710dd06226"
      },
      "execution_count": null,
      "outputs": [
        {
          "output_type": "stream",
          "name": "stdout",
          "text": [
            "(149714, 6)\n"
          ]
        }
      ]
    },
    {
      "cell_type": "markdown",
      "source": [
        "In previous classes we discussed the importance of the scaling the data before implementing our algorithms. Now that our data is all but ready to be fed into an algorithm, let's make sure that it's been scaled.\n",
        "\n",
        "###**Q8) Scale the input data**\n",
        "\n",
        "*Hint 1: Import the [`StandardScaler`](https://scikit-learn.org/stable/modules/generated/sklearn.preprocessing.StandardScaler.html) class from scikit and instantiate it*\n",
        "\n",
        "*Hint 2: Update the input array to the one returned by the [`.fit_transform(X)`](https://scikit-learn.org/stable/modules/generated/sklearn.preprocessing.StandardScaler.html#sklearn.preprocessing.StandardScaler.fit_transform) method*"
      ],
      "metadata": {
        "id": "AoZSkMieiL9O"
      }
    },
    {
      "cell_type": "code",
      "source": [
        "#Write your scaling code here\n",
        "from sklearn.preprocessing import StandardScaler\n",
        "stsc = StandardScaler()\n",
        "input_scaled = stsc.fit_transform(input_data)\n",
        "print(input_scaled.shape)\n",
        "input_scaled = np.delete(input_scaled, [5], axis=1)\n",
        "print(input_scaled.shape)"
      ],
      "metadata": {
        "id": "D2sZPWf1ignO",
        "colab": {
          "base_uri": "https://localhost:8080/"
        },
        "outputId": "a6b535c0-ecbb-4703-dbbd-8aefeff1a7c2"
      },
      "execution_count": null,
      "outputs": [
        {
          "output_type": "stream",
          "name": "stdout",
          "text": [
            "(149714, 6)\n",
            "(149714, 5)\n"
          ]
        },
        {
          "output_type": "stream",
          "name": "stderr",
          "text": [
            "/usr/local/lib/python3.7/dist-packages/sklearn/utils/extmath.py:985: RuntimeWarning: invalid value encountered in true_divide\n",
            "  updated_mean = (last_sum + new_sum) / updated_sample_count\n",
            "/usr/local/lib/python3.7/dist-packages/sklearn/utils/extmath.py:990: RuntimeWarning: invalid value encountered in true_divide\n",
            "  T = new_sum / new_sample_count\n",
            "/usr/local/lib/python3.7/dist-packages/sklearn/utils/extmath.py:1020: RuntimeWarning: invalid value encountered in true_divide\n",
            "  new_unnormalized_variance -= correction ** 2 / new_sample_count\n"
          ]
        }
      ]
    },
    {
      "cell_type": "markdown",
      "source": [
        "Now we're finally ready to train our algorithm! Let's load up the kmeans model and find clusters in our data.\n",
        "\n",
        "###**Q9) Instantiate the kmeans clustering algorithm, and then fit it using 50 clusters, trying out 10 different initial centroids.**\n",
        "\n",
        "*Hint 1: `sklearn.cluster` was imported as `cluser` during the notebook setup! [Here is the scikit `KMeans` documentation](https://scikit-learn.org/stable/modules/generated/sklearn.cluster.KMeans.html).*\n",
        "\n",
        "*Hint 2: Use the `fit_predict` method to organize the data into clusters*\n",
        "\n",
        "*Warning! : Fitting the data may take some time (under a minute during the testing of the notebook)"
      ],
      "metadata": {
        "id": "_z3e6dU8rInv"
      }
    },
    {
      "cell_type": "code",
      "source": [
        "# Complete the code\n",
        "kmeans = cluster.KMeans(n_clusters =50,  # Number of clusters\n",
        "                        random_state =42, # setting a random state\n",
        "                        n_init =10, # Number of initial centroid states to try\n",
        "                       verbose = 1)   # Verbosity so we know things are working"
      ],
      "metadata": {
        "id": "DtYyiksRrHPm"
      },
      "execution_count": null,
      "outputs": []
    },
    {
      "cell_type": "code",
      "source": [
        "models = kmeans.fit(input_scaled)# Feed in out scaled input data!"
      ],
      "metadata": {
        "id": "ohuw1WFiC8kS",
        "colab": {
          "base_uri": "https://localhost:8080/"
        },
        "outputId": "06f5db6b-99e4-4f57-fd27-924dcf58c355"
      },
      "execution_count": null,
      "outputs": [
        {
          "output_type": "stream",
          "name": "stdout",
          "text": [
            "Initialization complete\n",
            "Iteration 0, inertia 182950.9167154294\n",
            "Iteration 1, inertia 161265.7407204886\n",
            "Iteration 2, inertia 155653.16692563787\n",
            "Iteration 3, inertia 152483.08849802334\n",
            "Iteration 4, inertia 150353.0585249699\n",
            "Iteration 5, inertia 149351.41546122916\n",
            "Iteration 6, inertia 148762.60474901306\n",
            "Iteration 7, inertia 148428.64430835636\n",
            "Iteration 8, inertia 148193.4585487466\n",
            "Iteration 9, inertia 148047.03421722533\n",
            "Iteration 10, inertia 147931.11584640387\n",
            "Iteration 11, inertia 147823.84629603947\n",
            "Iteration 12, inertia 147733.59345225134\n",
            "Iteration 13, inertia 147650.18080252485\n",
            "Iteration 14, inertia 147595.55442908272\n",
            "Iteration 15, inertia 147540.28172869165\n",
            "Iteration 16, inertia 147500.72258744898\n",
            "Iteration 17, inertia 147461.36026471277\n",
            "Iteration 18, inertia 147415.95405034986\n",
            "Iteration 19, inertia 147356.38975931937\n",
            "Iteration 20, inertia 147286.32023602212\n",
            "Iteration 21, inertia 147219.66142304213\n",
            "Iteration 22, inertia 147149.4923584807\n",
            "Iteration 23, inertia 147087.11607124712\n",
            "Iteration 24, inertia 147030.29162406016\n",
            "Iteration 25, inertia 146970.30835644164\n",
            "Iteration 26, inertia 146914.6964307791\n",
            "Iteration 27, inertia 146877.66354577357\n",
            "Iteration 28, inertia 146847.59664064972\n",
            "Iteration 29, inertia 146832.1617226\n",
            "Iteration 30, inertia 146817.4503576947\n",
            "Iteration 31, inertia 146804.3853550257\n",
            "Iteration 32, inertia 146787.76897748088\n",
            "Iteration 33, inertia 146767.3670850496\n",
            "Iteration 34, inertia 146754.3388214606\n",
            "Iteration 35, inertia 146745.59264776937\n",
            "Iteration 36, inertia 146739.17563192424\n",
            "Iteration 37, inertia 146733.9062597636\n",
            "Iteration 38, inertia 146728.61228579804\n",
            "Iteration 39, inertia 146723.43984187406\n",
            "Iteration 40, inertia 146717.75509968286\n",
            "Iteration 41, inertia 146709.95868738007\n",
            "Iteration 42, inertia 146701.10728433603\n",
            "Iteration 43, inertia 146693.8863481473\n",
            "Iteration 44, inertia 146688.07015212323\n",
            "Iteration 45, inertia 146683.29688122333\n",
            "Iteration 46, inertia 146678.49677181427\n",
            "Iteration 47, inertia 146675.9033735288\n",
            "Iteration 48, inertia 146672.40631221543\n",
            "Iteration 49, inertia 146664.81227275974\n",
            "Iteration 50, inertia 146658.38761642523\n",
            "Iteration 51, inertia 146654.81058523734\n",
            "Iteration 52, inertia 146651.87096398603\n",
            "Iteration 53, inertia 146649.18481462193\n",
            "Iteration 54, inertia 146646.3337253456\n",
            "Iteration 55, inertia 146644.2153717424\n",
            "Iteration 56, inertia 146641.68760859084\n",
            "Iteration 57, inertia 146638.91444298712\n",
            "Iteration 58, inertia 146634.88650738486\n",
            "Iteration 59, inertia 146625.5919914808\n",
            "Iteration 60, inertia 146619.39624879917\n",
            "Iteration 61, inertia 146613.29638295193\n",
            "Iteration 62, inertia 146609.2383331994\n",
            "Iteration 63, inertia 146604.11275730727\n",
            "Iteration 64, inertia 146598.32262801297\n",
            "Iteration 65, inertia 146594.36495283523\n",
            "Iteration 66, inertia 146589.23547524016\n",
            "Iteration 67, inertia 146583.05183964118\n",
            "Iteration 68, inertia 146578.92003571262\n",
            "Iteration 69, inertia 146572.80412011268\n",
            "Iteration 70, inertia 146565.98701726482\n",
            "Iteration 71, inertia 146561.53185689618\n",
            "Iteration 72, inertia 146558.01492212637\n",
            "Iteration 73, inertia 146554.8736025507\n",
            "Iteration 74, inertia 146551.93805624958\n",
            "Iteration 75, inertia 146547.90511884037\n",
            "Iteration 76, inertia 146543.71400677715\n",
            "Iteration 77, inertia 146540.25930234883\n",
            "Iteration 78, inertia 146536.44618171646\n",
            "Iteration 79, inertia 146531.68273955793\n",
            "Iteration 80, inertia 146525.60912690798\n",
            "Iteration 81, inertia 146521.73636452577\n",
            "Iteration 82, inertia 146518.25479426736\n",
            "Iteration 83, inertia 146510.9513472392\n",
            "Iteration 84, inertia 146503.70708700363\n",
            "Iteration 85, inertia 146498.81989415985\n",
            "Iteration 86, inertia 146495.7357554314\n",
            "Iteration 87, inertia 146493.02173362486\n",
            "Iteration 88, inertia 146490.04828350004\n",
            "Iteration 89, inertia 146485.22524839052\n",
            "Iteration 90, inertia 146483.67429099034\n",
            "Iteration 91, inertia 146482.82721087034\n",
            "Iteration 92, inertia 146482.55735473457\n",
            "Iteration 93, inertia 146482.33450562123\n",
            "Iteration 94, inertia 146482.03601271712\n",
            "Iteration 95, inertia 146481.7803819229\n",
            "Iteration 96, inertia 146481.55429350078\n",
            "Iteration 97, inertia 146481.40266235758\n",
            "Converged at iteration 97: center shift 4.8904329225034934e-05 within tolerance 9.999999999999942e-05.\n",
            "Initialization complete\n",
            "Iteration 0, inertia 178419.66990761907\n",
            "Iteration 1, inertia 158262.2246444829\n",
            "Iteration 2, inertia 153507.01236638683\n",
            "Iteration 3, inertia 151400.39419329894\n",
            "Iteration 4, inertia 150322.2136776821\n",
            "Iteration 5, inertia 149729.28607537877\n",
            "Iteration 6, inertia 149354.71949732912\n",
            "Iteration 7, inertia 149119.22734187398\n",
            "Iteration 8, inertia 148957.04243020545\n",
            "Iteration 9, inertia 148835.80859162257\n",
            "Iteration 10, inertia 148711.38784406258\n",
            "Iteration 11, inertia 148444.8037727506\n",
            "Iteration 12, inertia 148218.94495540328\n",
            "Iteration 13, inertia 148077.8275916963\n",
            "Iteration 14, inertia 147956.27422590682\n",
            "Iteration 15, inertia 147817.76117478762\n",
            "Iteration 16, inertia 147693.57752188848\n",
            "Iteration 17, inertia 147608.74598483814\n",
            "Iteration 18, inertia 147577.46155899356\n",
            "Iteration 19, inertia 147555.1139226394\n",
            "Iteration 20, inertia 147539.47014118225\n",
            "Iteration 21, inertia 147522.23783961858\n",
            "Iteration 22, inertia 147504.28227929358\n",
            "Iteration 23, inertia 147474.2237103058\n",
            "Iteration 24, inertia 147451.41740247616\n",
            "Iteration 25, inertia 147430.21496283106\n",
            "Iteration 26, inertia 147408.2020744955\n",
            "Iteration 27, inertia 147391.82398605658\n",
            "Iteration 28, inertia 147379.0020476101\n",
            "Iteration 29, inertia 147367.916067741\n",
            "Iteration 30, inertia 147357.28510423156\n",
            "Iteration 31, inertia 147347.67878271412\n",
            "Iteration 32, inertia 147336.57662939123\n",
            "Iteration 33, inertia 147317.45376879215\n",
            "Iteration 34, inertia 147301.59043421704\n",
            "Iteration 35, inertia 147265.8559457833\n",
            "Iteration 36, inertia 147207.20797815965\n",
            "Iteration 37, inertia 147128.06135441165\n",
            "Iteration 38, inertia 147092.47816590068\n",
            "Iteration 39, inertia 147068.33091276698\n",
            "Iteration 40, inertia 147055.30123440112\n",
            "Iteration 41, inertia 147047.44510786328\n",
            "Iteration 42, inertia 147041.43003520527\n",
            "Iteration 43, inertia 147036.18556384888\n",
            "Iteration 44, inertia 147031.58314244685\n",
            "Iteration 45, inertia 147026.80326892564\n",
            "Iteration 46, inertia 147019.66705820014\n",
            "Iteration 47, inertia 147013.49841978826\n",
            "Iteration 48, inertia 147006.18805060023\n",
            "Iteration 49, inertia 146998.04897935368\n",
            "Iteration 50, inertia 146991.74135677816\n",
            "Iteration 51, inertia 146985.49294555822\n",
            "Iteration 52, inertia 146979.4867469839\n",
            "Iteration 53, inertia 146971.81647021594\n",
            "Iteration 54, inertia 146963.7501284401\n",
            "Iteration 55, inertia 146957.67077558354\n",
            "Iteration 56, inertia 146950.96803249998\n",
            "Iteration 57, inertia 146945.19055889058\n",
            "Iteration 58, inertia 146939.22600965513\n",
            "Iteration 59, inertia 146930.89723177277\n",
            "Iteration 60, inertia 146924.4099230569\n",
            "Iteration 61, inertia 146917.9581221555\n",
            "Iteration 62, inertia 146909.22914607654\n",
            "Iteration 63, inertia 146896.727425851\n",
            "Iteration 64, inertia 146879.78880637157\n",
            "Iteration 65, inertia 146865.27672655624\n",
            "Iteration 66, inertia 146854.1289509831\n",
            "Iteration 67, inertia 146840.00184608667\n",
            "Iteration 68, inertia 146823.66104975773\n",
            "Iteration 69, inertia 146805.4030683193\n",
            "Iteration 70, inertia 146792.99140222458\n",
            "Iteration 71, inertia 146784.77651038067\n",
            "Iteration 72, inertia 146778.2465550438\n",
            "Iteration 73, inertia 146771.29992909014\n",
            "Iteration 74, inertia 146764.56842480745\n",
            "Iteration 75, inertia 146757.98680596845\n",
            "Iteration 76, inertia 146753.07064835215\n",
            "Iteration 77, inertia 146749.5933834886\n",
            "Iteration 78, inertia 146740.41692785587\n",
            "Iteration 79, inertia 146729.64056291088\n",
            "Iteration 80, inertia 146724.4369393977\n",
            "Iteration 81, inertia 146720.73490663833\n",
            "Iteration 82, inertia 146717.48019891133\n",
            "Iteration 83, inertia 146714.71816678293\n",
            "Iteration 84, inertia 146711.88103592003\n",
            "Iteration 85, inertia 146709.18457737484\n",
            "Iteration 86, inertia 146707.06158017146\n",
            "Iteration 87, inertia 146705.51881068177\n",
            "Iteration 88, inertia 146704.181454399\n",
            "Iteration 89, inertia 146703.46368445127\n",
            "Iteration 90, inertia 146702.80001541082\n",
            "Iteration 91, inertia 146702.45709271578\n",
            "Iteration 92, inertia 146702.23596910993\n",
            "Iteration 93, inertia 146702.04164369768\n",
            "Iteration 94, inertia 146701.90759528842\n",
            "Converged at iteration 94: center shift 2.6437602489022696e-05 within tolerance 9.999999999999942e-05.\n",
            "Initialization complete\n",
            "Iteration 0, inertia 183355.45893643136\n",
            "Iteration 1, inertia 160668.4452244758\n",
            "Iteration 2, inertia 155273.21583866788\n",
            "Iteration 3, inertia 152713.8288623916\n",
            "Iteration 4, inertia 151201.13977852353\n",
            "Iteration 5, inertia 150158.3094396431\n",
            "Iteration 6, inertia 149518.0736807248\n",
            "Iteration 7, inertia 149028.4469110595\n",
            "Iteration 8, inertia 148689.86648733943\n",
            "Iteration 9, inertia 148433.9493239423\n",
            "Iteration 10, inertia 148247.77928078052\n",
            "Iteration 11, inertia 148090.81659455755\n",
            "Iteration 12, inertia 147968.49256777967\n",
            "Iteration 13, inertia 147845.4621650711\n",
            "Iteration 14, inertia 147730.8332627708\n",
            "Iteration 15, inertia 147593.70713273002\n",
            "Iteration 16, inertia 147470.9030488255\n",
            "Iteration 17, inertia 147360.4737753577\n",
            "Iteration 18, inertia 147275.0897415047\n",
            "Iteration 19, inertia 147192.2624575493\n",
            "Iteration 20, inertia 147133.52958403458\n",
            "Iteration 21, inertia 147085.16622101626\n",
            "Iteration 22, inertia 147049.39958255045\n",
            "Iteration 23, inertia 147021.48712720996\n",
            "Iteration 24, inertia 146999.72485539038\n",
            "Iteration 25, inertia 146981.833464502\n",
            "Iteration 26, inertia 146965.00043521792\n",
            "Iteration 27, inertia 146941.58856629286\n",
            "Iteration 28, inertia 146926.07819858007\n",
            "Iteration 29, inertia 146907.10933602517\n",
            "Iteration 30, inertia 146884.44054517453\n",
            "Iteration 31, inertia 146864.5251245519\n",
            "Iteration 32, inertia 146828.9002788092\n",
            "Iteration 33, inertia 146799.4195449492\n",
            "Iteration 34, inertia 146767.76262011688\n",
            "Iteration 35, inertia 146743.06459375494\n",
            "Iteration 36, inertia 146729.02257050204\n",
            "Iteration 37, inertia 146711.57471869126\n",
            "Iteration 38, inertia 146696.3736521691\n",
            "Iteration 39, inertia 146682.2790005603\n",
            "Iteration 40, inertia 146659.47793758794\n",
            "Iteration 41, inertia 146632.72451557248\n",
            "Iteration 42, inertia 146619.36941711794\n",
            "Iteration 43, inertia 146605.94271283227\n",
            "Iteration 44, inertia 146589.9722837697\n",
            "Iteration 45, inertia 146574.7645268988\n",
            "Iteration 46, inertia 146552.91651386447\n",
            "Iteration 47, inertia 146520.98515781405\n",
            "Iteration 48, inertia 146489.33560839447\n",
            "Iteration 49, inertia 146466.81715592975\n",
            "Iteration 50, inertia 146438.87349430122\n",
            "Iteration 51, inertia 146412.57427221455\n",
            "Iteration 52, inertia 146371.18544227025\n",
            "Iteration 53, inertia 146334.01082229448\n",
            "Iteration 54, inertia 146315.612146314\n",
            "Iteration 55, inertia 146292.39858098258\n",
            "Iteration 56, inertia 146270.25371423317\n",
            "Iteration 57, inertia 146255.91670462082\n",
            "Iteration 58, inertia 146244.9574114256\n",
            "Iteration 59, inertia 146233.21804496736\n",
            "Iteration 60, inertia 146231.3016031679\n",
            "Iteration 61, inertia 146230.0411605646\n",
            "Iteration 62, inertia 146229.18807126593\n",
            "Iteration 63, inertia 146228.55379054332\n",
            "Iteration 64, inertia 146228.03100785334\n",
            "Iteration 65, inertia 146227.45776837345\n",
            "Iteration 66, inertia 146227.1149249178\n",
            "Converged at iteration 66: center shift 4.880955198437154e-05 within tolerance 9.999999999999942e-05.\n",
            "Initialization complete\n",
            "Iteration 0, inertia 179795.84397792842\n",
            "Iteration 1, inertia 160251.43859504667\n",
            "Iteration 2, inertia 154377.89151665382\n",
            "Iteration 3, inertia 152256.34394402854\n",
            "Iteration 4, inertia 151154.9812063457\n",
            "Iteration 5, inertia 150414.36260348637\n",
            "Iteration 6, inertia 149825.49189754773\n",
            "Iteration 7, inertia 149379.1992802991\n",
            "Iteration 8, inertia 149049.6760056244\n",
            "Iteration 9, inertia 148773.48910007937\n",
            "Iteration 10, inertia 148460.2224422096\n",
            "Iteration 11, inertia 148016.75063233724\n",
            "Iteration 12, inertia 147801.31710323005\n",
            "Iteration 13, inertia 147624.7470271355\n",
            "Iteration 14, inertia 147535.3033088739\n",
            "Iteration 15, inertia 147475.95993863588\n",
            "Iteration 16, inertia 147439.75065211454\n",
            "Iteration 17, inertia 147409.80920038896\n",
            "Iteration 18, inertia 147385.81596064824\n",
            "Iteration 19, inertia 147363.98905899317\n",
            "Iteration 20, inertia 147343.60643162782\n",
            "Iteration 21, inertia 147329.64500693895\n",
            "Iteration 22, inertia 147316.56455421617\n",
            "Iteration 23, inertia 147306.7524638457\n",
            "Iteration 24, inertia 147297.33173090126\n",
            "Iteration 25, inertia 147293.60653470215\n",
            "Iteration 26, inertia 147291.2993701314\n",
            "Iteration 27, inertia 147289.2954096117\n",
            "Iteration 28, inertia 147288.0556892765\n",
            "Iteration 29, inertia 147286.45485390793\n",
            "Iteration 30, inertia 147285.35188926387\n",
            "Iteration 31, inertia 147284.6884062327\n",
            "Iteration 32, inertia 147283.6684211723\n",
            "Iteration 33, inertia 147283.18615310668\n",
            "Iteration 34, inertia 147282.80794979242\n",
            "Iteration 35, inertia 147282.47687506748\n",
            "Iteration 36, inertia 147282.24768636472\n",
            "Iteration 37, inertia 147282.04216363537\n",
            "Iteration 38, inertia 147281.70869593002\n",
            "Iteration 39, inertia 147281.39307373224\n",
            "Iteration 40, inertia 147281.10698247663\n",
            "Iteration 41, inertia 147280.82967820892\n",
            "Iteration 42, inertia 147280.46409990423\n",
            "Iteration 43, inertia 147280.1799296104\n",
            "Iteration 44, inertia 147277.7543355776\n",
            "Iteration 45, inertia 147274.5489805973\n",
            "Iteration 46, inertia 147272.34211355424\n",
            "Iteration 47, inertia 147270.75060366423\n",
            "Iteration 48, inertia 147269.73292886955\n",
            "Iteration 49, inertia 147268.60501773734\n",
            "Iteration 50, inertia 147267.12447871355\n",
            "Iteration 51, inertia 147266.63832673733\n",
            "Converged at iteration 51: center shift 4.8618351438361095e-06 within tolerance 9.999999999999942e-05.\n",
            "Initialization complete\n",
            "Iteration 0, inertia 179188.50022126583\n",
            "Iteration 1, inertia 158387.14800285478\n",
            "Iteration 2, inertia 154208.24529419886\n",
            "Iteration 3, inertia 152760.7725514458\n",
            "Iteration 4, inertia 151841.32406140983\n",
            "Iteration 5, inertia 151049.76864561837\n",
            "Iteration 6, inertia 150335.6889247753\n",
            "Iteration 7, inertia 149831.13422085918\n",
            "Iteration 8, inertia 149385.4193536478\n",
            "Iteration 9, inertia 149099.4012245799\n",
            "Iteration 10, inertia 148915.39138570096\n",
            "Iteration 11, inertia 148711.55282268603\n",
            "Iteration 12, inertia 148448.11498429294\n",
            "Iteration 13, inertia 148308.24029150995\n",
            "Iteration 14, inertia 148165.32576623827\n",
            "Iteration 15, inertia 148014.80685507244\n",
            "Iteration 16, inertia 147894.9358391944\n",
            "Iteration 17, inertia 147829.43152531364\n",
            "Iteration 18, inertia 147781.29489770424\n",
            "Iteration 19, inertia 147743.82706428686\n",
            "Iteration 20, inertia 147713.59570458555\n",
            "Iteration 21, inertia 147685.97010806523\n",
            "Iteration 22, inertia 147662.74005042308\n",
            "Iteration 23, inertia 147637.26944069215\n",
            "Iteration 24, inertia 147616.28709855332\n",
            "Iteration 25, inertia 147579.098822527\n",
            "Iteration 26, inertia 147531.93057400096\n",
            "Iteration 27, inertia 147487.59382768942\n",
            "Iteration 28, inertia 147437.57288589608\n",
            "Iteration 29, inertia 147403.5950039376\n",
            "Iteration 30, inertia 147379.17997140926\n",
            "Iteration 31, inertia 147351.49370893947\n",
            "Iteration 32, inertia 147329.53759149666\n",
            "Iteration 33, inertia 147311.6979512598\n",
            "Iteration 34, inertia 147284.1700875787\n",
            "Iteration 35, inertia 147250.9825948879\n",
            "Iteration 36, inertia 147232.84147035348\n",
            "Iteration 37, inertia 147191.86247551243\n",
            "Iteration 38, inertia 147177.99629585008\n",
            "Iteration 39, inertia 147168.6150683759\n",
            "Iteration 40, inertia 147161.68240004758\n",
            "Iteration 41, inertia 147155.04880889028\n",
            "Iteration 42, inertia 147148.34279739868\n",
            "Iteration 43, inertia 147139.5795033595\n",
            "Iteration 44, inertia 147127.02254159347\n",
            "Iteration 45, inertia 147119.91822509494\n",
            "Iteration 46, inertia 147113.57361981162\n",
            "Iteration 47, inertia 147108.1323304681\n",
            "Iteration 48, inertia 147097.82228177245\n",
            "Iteration 49, inertia 147086.5671082715\n",
            "Iteration 50, inertia 147076.811855501\n",
            "Iteration 51, inertia 147066.55271153196\n",
            "Iteration 52, inertia 147052.84170570743\n",
            "Iteration 53, inertia 147040.13785327337\n",
            "Iteration 54, inertia 147033.02880681716\n",
            "Iteration 55, inertia 147029.12663382466\n",
            "Iteration 56, inertia 147027.06924846486\n",
            "Iteration 57, inertia 147026.08412006637\n",
            "Iteration 58, inertia 147024.53541540867\n",
            "Iteration 59, inertia 147022.225742768\n",
            "Iteration 60, inertia 147019.1489109578\n",
            "Iteration 61, inertia 147016.4915984847\n",
            "Iteration 62, inertia 147013.2179110742\n",
            "Iteration 63, inertia 147008.78957618866\n",
            "Iteration 64, inertia 147004.7596166603\n",
            "Iteration 65, inertia 147000.551580286\n",
            "Iteration 66, inertia 146997.90554873765\n",
            "Iteration 67, inertia 146992.0104040911\n",
            "Iteration 68, inertia 146985.96812797728\n",
            "Iteration 69, inertia 146978.80187089927\n",
            "Iteration 70, inertia 146974.94039770766\n",
            "Iteration 71, inertia 146965.43969990354\n",
            "Iteration 72, inertia 146954.4517239122\n",
            "Iteration 73, inertia 146944.66282101636\n",
            "Iteration 74, inertia 146935.63686164154\n",
            "Iteration 75, inertia 146932.44236041605\n",
            "Iteration 76, inertia 146927.23195335557\n",
            "Iteration 77, inertia 146919.05177814403\n",
            "Iteration 78, inertia 146911.02788756223\n",
            "Iteration 79, inertia 146909.67505170783\n",
            "Iteration 80, inertia 146908.78080136533\n",
            "Iteration 81, inertia 146906.8538927018\n",
            "Iteration 82, inertia 146904.00925634283\n",
            "Iteration 83, inertia 146902.37516737173\n",
            "Iteration 84, inertia 146900.7572348115\n",
            "Iteration 85, inertia 146899.8920059139\n",
            "Iteration 86, inertia 146899.52934813747\n",
            "Iteration 87, inertia 146899.13714822935\n",
            "Iteration 88, inertia 146898.77896293928\n",
            "Iteration 89, inertia 146898.57740134685\n",
            "Iteration 90, inertia 146898.1690855593\n",
            "Converged at iteration 90: center shift 8.972954917384412e-05 within tolerance 9.999999999999942e-05.\n",
            "Initialization complete\n",
            "Iteration 0, inertia 178132.5489260562\n",
            "Iteration 1, inertia 162365.52827813552\n",
            "Iteration 2, inertia 157565.11403763894\n",
            "Iteration 3, inertia 154471.0178590868\n",
            "Iteration 4, inertia 153213.42932448053\n",
            "Iteration 5, inertia 152498.64784155128\n",
            "Iteration 6, inertia 152023.01134635782\n",
            "Iteration 7, inertia 151654.36990934555\n",
            "Iteration 8, inertia 151347.46781668265\n",
            "Iteration 9, inertia 151007.0240213417\n",
            "Iteration 10, inertia 150631.06411384424\n",
            "Iteration 11, inertia 150340.07921235054\n",
            "Iteration 12, inertia 150037.95632170583\n",
            "Iteration 13, inertia 149794.56381110282\n",
            "Iteration 14, inertia 149566.7555042249\n",
            "Iteration 15, inertia 149190.17099270108\n",
            "Iteration 16, inertia 148797.8846424845\n",
            "Iteration 17, inertia 148372.62369083503\n",
            "Iteration 18, inertia 148091.91093317507\n",
            "Iteration 19, inertia 147896.73107256915\n",
            "Iteration 20, inertia 147740.6323860532\n",
            "Iteration 21, inertia 147619.21544493816\n",
            "Iteration 22, inertia 147522.01934281795\n",
            "Iteration 23, inertia 147451.3365413898\n",
            "Iteration 24, inertia 147398.90526375442\n",
            "Iteration 25, inertia 147360.80318168725\n",
            "Iteration 26, inertia 147328.02411254993\n",
            "Iteration 27, inertia 147297.13988006223\n",
            "Iteration 28, inertia 147268.78325394716\n",
            "Iteration 29, inertia 147243.99131111085\n",
            "Iteration 30, inertia 147217.1844013579\n",
            "Iteration 31, inertia 147193.90307596975\n",
            "Iteration 32, inertia 147165.7500927329\n",
            "Iteration 33, inertia 147137.05017608881\n",
            "Iteration 34, inertia 147107.16567439685\n",
            "Iteration 35, inertia 147078.5633787333\n",
            "Iteration 36, inertia 147049.68945600477\n",
            "Iteration 37, inertia 147021.9284914812\n",
            "Iteration 38, inertia 146997.37070885117\n",
            "Iteration 39, inertia 146977.60035069453\n",
            "Iteration 40, inertia 146953.95142795163\n",
            "Iteration 41, inertia 146931.1331208509\n",
            "Iteration 42, inertia 146905.41266964772\n",
            "Iteration 43, inertia 146874.50877403424\n",
            "Iteration 44, inertia 146853.42958580903\n",
            "Iteration 45, inertia 146826.5988504931\n",
            "Iteration 46, inertia 146800.2141950559\n",
            "Iteration 47, inertia 146768.62609261618\n",
            "Iteration 48, inertia 146735.06370115338\n",
            "Iteration 49, inertia 146703.01000506151\n",
            "Iteration 50, inertia 146672.22848794048\n",
            "Iteration 51, inertia 146641.85208605236\n",
            "Iteration 52, inertia 146587.9765773826\n",
            "Iteration 53, inertia 146526.37590492255\n",
            "Iteration 54, inertia 146472.21207995486\n",
            "Iteration 55, inertia 146417.953434986\n",
            "Iteration 56, inertia 146340.71610321713\n",
            "Iteration 57, inertia 146291.47278964412\n",
            "Iteration 58, inertia 146256.58739408682\n",
            "Iteration 59, inertia 146227.7480314267\n",
            "Iteration 60, inertia 146201.82857341046\n",
            "Iteration 61, inertia 146187.09984057533\n",
            "Iteration 62, inertia 146179.57891806652\n",
            "Iteration 63, inertia 146176.70865021783\n",
            "Iteration 64, inertia 146174.52165976723\n",
            "Iteration 65, inertia 146173.75864677053\n",
            "Converged at iteration 65: center shift 9.658660497936999e-05 within tolerance 9.999999999999942e-05.\n",
            "Initialization complete\n",
            "Iteration 0, inertia 182695.32925825525\n",
            "Iteration 1, inertia 161767.79282214848\n",
            "Iteration 2, inertia 156715.81371235347\n",
            "Iteration 3, inertia 154381.01471577515\n",
            "Iteration 4, inertia 152554.749888778\n",
            "Iteration 5, inertia 151477.771769417\n",
            "Iteration 6, inertia 150980.05791840173\n",
            "Iteration 7, inertia 150693.11446534467\n",
            "Iteration 8, inertia 150417.78604911524\n",
            "Iteration 9, inertia 150202.71817181417\n",
            "Iteration 10, inertia 150052.8715700277\n",
            "Iteration 11, inertia 149921.37179874786\n",
            "Iteration 12, inertia 149789.9387542848\n",
            "Iteration 13, inertia 149622.24449084827\n",
            "Iteration 14, inertia 149517.4712448738\n",
            "Iteration 15, inertia 149422.44815665815\n",
            "Iteration 16, inertia 149339.20679828632\n",
            "Iteration 17, inertia 149247.09362116182\n",
            "Iteration 18, inertia 149158.7836016181\n",
            "Iteration 19, inertia 149088.92932482884\n",
            "Iteration 20, inertia 149020.65801551414\n",
            "Iteration 21, inertia 148975.1782393657\n",
            "Iteration 22, inertia 148946.5210136425\n",
            "Iteration 23, inertia 148927.99476776074\n",
            "Iteration 24, inertia 148915.64377168642\n",
            "Iteration 25, inertia 148903.47531168582\n",
            "Iteration 26, inertia 148891.20322623567\n",
            "Iteration 27, inertia 148881.10905241978\n",
            "Iteration 28, inertia 148872.92258262692\n",
            "Iteration 29, inertia 148864.02392293097\n",
            "Iteration 30, inertia 148855.47857551195\n",
            "Iteration 31, inertia 148848.46362765276\n",
            "Iteration 32, inertia 148836.61724238168\n",
            "Iteration 33, inertia 148829.20406816242\n",
            "Iteration 34, inertia 148822.98803035857\n",
            "Iteration 35, inertia 148811.1482303789\n",
            "Iteration 36, inertia 148797.2137919058\n",
            "Iteration 37, inertia 148777.89759008124\n",
            "Iteration 38, inertia 148744.70832302142\n",
            "Iteration 39, inertia 148714.4914818457\n",
            "Iteration 40, inertia 148670.28298040893\n",
            "Iteration 41, inertia 148623.6874431484\n",
            "Iteration 42, inertia 148574.595596448\n",
            "Iteration 43, inertia 148512.10541739682\n",
            "Iteration 44, inertia 148451.95790208306\n",
            "Iteration 45, inertia 148397.156507954\n",
            "Iteration 46, inertia 148348.15216051097\n",
            "Iteration 47, inertia 148298.65316567663\n",
            "Iteration 48, inertia 148248.776968723\n",
            "Iteration 49, inertia 148199.1474994552\n",
            "Iteration 50, inertia 148148.14134790967\n",
            "Iteration 51, inertia 148110.51280739554\n",
            "Iteration 52, inertia 148078.54143746832\n",
            "Iteration 53, inertia 148055.96522786748\n",
            "Iteration 54, inertia 148031.5345371249\n",
            "Iteration 55, inertia 148010.00801745988\n",
            "Iteration 56, inertia 147994.3717684847\n",
            "Iteration 57, inertia 147980.2706246485\n",
            "Iteration 58, inertia 147968.29879882233\n",
            "Iteration 59, inertia 147956.0675086722\n",
            "Iteration 60, inertia 147941.3799733477\n",
            "Iteration 61, inertia 147925.43364400783\n",
            "Iteration 62, inertia 147912.48635628252\n",
            "Iteration 63, inertia 147906.26807526473\n",
            "Iteration 64, inertia 147902.17907357172\n",
            "Iteration 65, inertia 147900.32967670145\n",
            "Iteration 66, inertia 147897.3773309334\n",
            "Iteration 67, inertia 147896.00028232287\n",
            "Iteration 68, inertia 147894.85706831623\n",
            "Iteration 69, inertia 147893.82988827385\n",
            "Iteration 70, inertia 147892.13982745132\n",
            "Iteration 71, inertia 147890.22904780594\n",
            "Iteration 72, inertia 147887.7643031731\n",
            "Iteration 73, inertia 147885.47620040108\n",
            "Iteration 74, inertia 147882.04750474467\n",
            "Iteration 75, inertia 147877.4902124805\n",
            "Iteration 76, inertia 147874.4346148574\n",
            "Iteration 77, inertia 147871.36490226525\n",
            "Iteration 78, inertia 147865.42692487303\n",
            "Iteration 79, inertia 147861.07317813498\n",
            "Iteration 80, inertia 147857.95910024463\n",
            "Iteration 81, inertia 147855.48940066405\n",
            "Iteration 82, inertia 147854.39491329525\n",
            "Iteration 83, inertia 147853.4053347085\n",
            "Iteration 84, inertia 147852.11541754598\n",
            "Iteration 85, inertia 147851.26679169212\n",
            "Iteration 86, inertia 147850.76688062347\n",
            "Converged at iteration 86: center shift 8.895207367856393e-05 within tolerance 9.999999999999942e-05.\n",
            "Initialization complete\n",
            "Iteration 0, inertia 175303.77125467386\n",
            "Iteration 1, inertia 159940.52253186086\n",
            "Iteration 2, inertia 156167.4986592602\n",
            "Iteration 3, inertia 154265.55036027625\n",
            "Iteration 4, inertia 153070.05024174752\n",
            "Iteration 5, inertia 152035.39625842008\n",
            "Iteration 6, inertia 151135.62720905527\n",
            "Iteration 7, inertia 150470.846063504\n",
            "Iteration 8, inertia 149868.56229057166\n",
            "Iteration 9, inertia 149455.04802051\n",
            "Iteration 10, inertia 149148.89976653008\n",
            "Iteration 11, inertia 148943.93890463424\n",
            "Iteration 12, inertia 148740.17257205967\n",
            "Iteration 13, inertia 148562.57361493068\n",
            "Iteration 14, inertia 148416.52352304402\n",
            "Iteration 15, inertia 148288.4321726089\n",
            "Iteration 16, inertia 148137.77429493627\n",
            "Iteration 17, inertia 147835.0019565075\n",
            "Iteration 18, inertia 147682.2968057884\n",
            "Iteration 19, inertia 147569.82314842322\n",
            "Iteration 20, inertia 147471.15126173946\n",
            "Iteration 21, inertia 147400.20377051554\n",
            "Iteration 22, inertia 147328.38107554917\n",
            "Iteration 23, inertia 147265.4709273446\n",
            "Iteration 24, inertia 147212.7289985033\n",
            "Iteration 25, inertia 147161.05044879758\n",
            "Iteration 26, inertia 147120.8997158478\n",
            "Iteration 27, inertia 147082.3176135607\n",
            "Iteration 28, inertia 147032.9504889486\n",
            "Iteration 29, inertia 146993.48073333816\n",
            "Iteration 30, inertia 146953.64934394864\n",
            "Iteration 31, inertia 146906.1977751065\n",
            "Iteration 32, inertia 146852.15171802384\n",
            "Iteration 33, inertia 146795.1111791632\n",
            "Iteration 34, inertia 146733.01684791062\n",
            "Iteration 35, inertia 146645.5183107956\n",
            "Iteration 36, inertia 146495.60021543858\n",
            "Iteration 37, inertia 146314.92299014574\n",
            "Iteration 38, inertia 146175.95589556498\n",
            "Iteration 39, inertia 146082.1622233154\n",
            "Iteration 40, inertia 146028.36620920338\n",
            "Iteration 41, inertia 145993.99766536377\n",
            "Iteration 42, inertia 145969.00887366972\n",
            "Iteration 43, inertia 145950.23971966963\n",
            "Iteration 44, inertia 145935.28206383914\n",
            "Iteration 45, inertia 145922.39676292843\n",
            "Iteration 46, inertia 145912.568568578\n",
            "Iteration 47, inertia 145903.2971188931\n",
            "Iteration 48, inertia 145893.42485606208\n",
            "Iteration 49, inertia 145882.14766407\n",
            "Iteration 50, inertia 145871.4004765019\n",
            "Iteration 51, inertia 145859.29518802802\n",
            "Iteration 52, inertia 145846.46334739134\n",
            "Iteration 53, inertia 145837.08319056244\n",
            "Iteration 54, inertia 145826.8647401449\n",
            "Iteration 55, inertia 145820.95229185856\n",
            "Iteration 56, inertia 145815.53089425576\n",
            "Iteration 57, inertia 145809.83222877275\n",
            "Iteration 58, inertia 145805.8873591053\n",
            "Iteration 59, inertia 145803.73668398272\n",
            "Iteration 60, inertia 145802.1737231693\n",
            "Iteration 61, inertia 145801.0497288209\n",
            "Iteration 62, inertia 145799.9122279125\n",
            "Iteration 63, inertia 145799.16211187217\n",
            "Iteration 64, inertia 145798.3443106758\n",
            "Iteration 65, inertia 145798.03526052367\n",
            "Iteration 66, inertia 145797.78344162053\n",
            "Iteration 67, inertia 145797.5310120348\n",
            "Converged at iteration 67: center shift 4.223915660461904e-05 within tolerance 9.999999999999942e-05.\n",
            "Initialization complete\n",
            "Iteration 0, inertia 178583.73369425914\n",
            "Iteration 1, inertia 160714.79454836063\n",
            "Iteration 2, inertia 155915.5126200424\n",
            "Iteration 3, inertia 153308.24221906273\n",
            "Iteration 4, inertia 151415.42315757525\n",
            "Iteration 5, inertia 150539.58510184186\n",
            "Iteration 6, inertia 149932.94255294793\n",
            "Iteration 7, inertia 149433.3421309603\n",
            "Iteration 8, inertia 148964.08951066266\n",
            "Iteration 9, inertia 148581.61997458816\n",
            "Iteration 10, inertia 148259.0749046716\n",
            "Iteration 11, inertia 147996.70264875272\n",
            "Iteration 12, inertia 147800.4713489808\n",
            "Iteration 13, inertia 147645.73949643888\n",
            "Iteration 14, inertia 147481.40183208344\n",
            "Iteration 15, inertia 147356.8834468003\n",
            "Iteration 16, inertia 147276.81603422476\n",
            "Iteration 17, inertia 147204.6159858566\n",
            "Iteration 18, inertia 147135.37166899734\n",
            "Iteration 19, inertia 147069.18547105673\n",
            "Iteration 20, inertia 146984.04544867837\n",
            "Iteration 21, inertia 146922.64870173618\n",
            "Iteration 22, inertia 146856.29689705645\n",
            "Iteration 23, inertia 146796.22047074506\n",
            "Iteration 24, inertia 146741.9881411371\n",
            "Iteration 25, inertia 146688.5530261272\n",
            "Iteration 26, inertia 146646.5984585127\n",
            "Iteration 27, inertia 146603.5008529198\n",
            "Iteration 28, inertia 146560.2212628628\n",
            "Iteration 29, inertia 146508.52380001135\n",
            "Iteration 30, inertia 146469.25570160773\n",
            "Iteration 31, inertia 146435.50217181793\n",
            "Iteration 32, inertia 146414.75403541373\n",
            "Iteration 33, inertia 146403.24528072012\n",
            "Iteration 34, inertia 146393.41881568317\n",
            "Iteration 35, inertia 146384.6129162471\n",
            "Iteration 36, inertia 146377.50627318164\n",
            "Iteration 37, inertia 146369.97204664888\n",
            "Iteration 38, inertia 146362.12006887095\n",
            "Iteration 39, inertia 146355.20851730945\n",
            "Iteration 40, inertia 146346.99415630678\n",
            "Iteration 41, inertia 146339.62545036257\n",
            "Iteration 42, inertia 146333.41643993705\n",
            "Iteration 43, inertia 146326.99085929635\n",
            "Iteration 44, inertia 146321.503897699\n",
            "Iteration 45, inertia 146316.8977329419\n",
            "Iteration 46, inertia 146308.42964067013\n",
            "Iteration 47, inertia 146303.74692081666\n",
            "Iteration 48, inertia 146299.55832799734\n",
            "Iteration 49, inertia 146295.47263338935\n",
            "Iteration 50, inertia 146291.19481175218\n",
            "Iteration 51, inertia 146286.3680578689\n",
            "Iteration 52, inertia 146280.41953740118\n",
            "Iteration 53, inertia 146274.58973029064\n",
            "Iteration 54, inertia 146268.08510099782\n",
            "Iteration 55, inertia 146260.72190685954\n",
            "Iteration 56, inertia 146249.3462214325\n",
            "Iteration 57, inertia 146239.76880811097\n",
            "Iteration 58, inertia 146231.26678264618\n",
            "Iteration 59, inertia 146222.4185779151\n",
            "Iteration 60, inertia 146214.0023352501\n",
            "Iteration 61, inertia 146200.99093510484\n",
            "Iteration 62, inertia 146182.82105545176\n",
            "Iteration 63, inertia 146168.33964484744\n",
            "Iteration 64, inertia 146155.30958901643\n",
            "Iteration 65, inertia 146142.0622903847\n",
            "Iteration 66, inertia 146125.78302761127\n",
            "Iteration 67, inertia 146110.85350091773\n",
            "Iteration 68, inertia 146097.12068717915\n",
            "Iteration 69, inertia 146084.8877204876\n",
            "Iteration 70, inertia 146075.1552426302\n",
            "Iteration 71, inertia 146066.74149254613\n",
            "Iteration 72, inertia 146058.15432963942\n",
            "Iteration 73, inertia 146048.100249386\n",
            "Iteration 74, inertia 146035.93956874288\n",
            "Iteration 75, inertia 146023.47547208657\n",
            "Iteration 76, inertia 146010.14126639062\n",
            "Iteration 77, inertia 145994.3600623621\n",
            "Iteration 78, inertia 145973.8794309736\n",
            "Iteration 79, inertia 145954.65323017642\n",
            "Iteration 80, inertia 145933.99025416793\n",
            "Iteration 81, inertia 145918.96192207484\n",
            "Iteration 82, inertia 145907.45635785352\n",
            "Iteration 83, inertia 145897.62839518342\n",
            "Iteration 84, inertia 145888.53483695287\n",
            "Iteration 85, inertia 145880.8825157532\n",
            "Iteration 86, inertia 145874.4301096617\n",
            "Iteration 87, inertia 145869.38720532606\n",
            "Iteration 88, inertia 145864.75985829654\n",
            "Iteration 89, inertia 145859.7950465488\n",
            "Iteration 90, inertia 145854.22620749584\n",
            "Iteration 91, inertia 145848.4815683464\n",
            "Iteration 92, inertia 145843.1501061186\n",
            "Iteration 93, inertia 145837.8279851115\n",
            "Iteration 94, inertia 145832.4954866626\n",
            "Iteration 95, inertia 145827.11649768995\n",
            "Iteration 96, inertia 145820.605060556\n",
            "Iteration 97, inertia 145811.49673170695\n",
            "Iteration 98, inertia 145799.96824059525\n",
            "Iteration 99, inertia 145782.34579210257\n",
            "Iteration 100, inertia 145765.98622909733\n",
            "Iteration 101, inertia 145748.34253494977\n",
            "Iteration 102, inertia 145724.93932744826\n",
            "Iteration 103, inertia 145699.17258593524\n",
            "Iteration 104, inertia 145666.93284990292\n",
            "Iteration 105, inertia 145633.351407022\n",
            "Iteration 106, inertia 145596.20251407166\n",
            "Iteration 107, inertia 145561.32332539698\n",
            "Iteration 108, inertia 145524.47892950976\n",
            "Iteration 109, inertia 145484.7174159906\n",
            "Iteration 110, inertia 145449.69520843704\n",
            "Iteration 111, inertia 145421.98655506072\n",
            "Iteration 112, inertia 145397.07569519442\n",
            "Iteration 113, inertia 145375.17635947524\n",
            "Iteration 114, inertia 145344.7151776082\n",
            "Iteration 115, inertia 145308.61550200422\n",
            "Iteration 116, inertia 145279.78454958164\n",
            "Iteration 117, inertia 145237.76031423509\n",
            "Iteration 118, inertia 145192.5096784382\n",
            "Iteration 119, inertia 145160.5645807947\n",
            "Iteration 120, inertia 145148.76975637153\n",
            "Iteration 121, inertia 145140.96212779963\n",
            "Iteration 122, inertia 145135.3742169827\n",
            "Iteration 123, inertia 145129.2821426603\n",
            "Iteration 124, inertia 145123.39545422516\n",
            "Iteration 125, inertia 145117.0317989519\n",
            "Iteration 126, inertia 145109.1758500346\n",
            "Iteration 127, inertia 145100.45396257675\n",
            "Iteration 128, inertia 145090.98946268525\n",
            "Iteration 129, inertia 145082.45843062614\n",
            "Iteration 130, inertia 145075.22350573778\n",
            "Iteration 131, inertia 145070.53027274268\n",
            "Iteration 132, inertia 145065.30278820003\n",
            "Iteration 133, inertia 145060.1185125279\n",
            "Iteration 134, inertia 145056.51148259846\n",
            "Iteration 135, inertia 145052.6322898887\n",
            "Iteration 136, inertia 145048.66102748236\n",
            "Iteration 137, inertia 145044.70927488906\n",
            "Iteration 138, inertia 145042.2610209383\n",
            "Iteration 139, inertia 145040.01707961466\n",
            "Iteration 140, inertia 145037.96852374548\n",
            "Iteration 141, inertia 145036.1699450513\n",
            "Iteration 142, inertia 145034.9037956942\n",
            "Iteration 143, inertia 145033.83049503062\n",
            "Iteration 144, inertia 145033.02560941232\n",
            "Iteration 145, inertia 145032.30236990826\n",
            "Iteration 146, inertia 145031.60006340878\n",
            "Converged at iteration 146: center shift 8.69543727297958e-05 within tolerance 9.999999999999942e-05.\n",
            "Initialization complete\n",
            "Iteration 0, inertia 181361.55575856694\n",
            "Iteration 1, inertia 160542.6659891177\n",
            "Iteration 2, inertia 155753.95931214694\n",
            "Iteration 3, inertia 153639.73415854256\n",
            "Iteration 4, inertia 152462.784951374\n",
            "Iteration 5, inertia 151652.2071152711\n",
            "Iteration 6, inertia 151072.46235202462\n",
            "Iteration 7, inertia 150681.31963567424\n",
            "Iteration 8, inertia 150350.91906485302\n",
            "Iteration 9, inertia 150097.75886215077\n",
            "Iteration 10, inertia 149817.53326099316\n",
            "Iteration 11, inertia 149473.73325919342\n",
            "Iteration 12, inertia 149129.1815928948\n",
            "Iteration 13, inertia 148842.25073650578\n",
            "Iteration 14, inertia 148693.2111590099\n",
            "Iteration 15, inertia 148585.70148985233\n",
            "Iteration 16, inertia 148490.19324633013\n",
            "Iteration 17, inertia 148382.38647927664\n",
            "Iteration 18, inertia 148280.25430672083\n",
            "Iteration 19, inertia 148192.91956555116\n",
            "Iteration 20, inertia 148131.4815763818\n",
            "Iteration 21, inertia 148059.5052446539\n",
            "Iteration 22, inertia 147978.79520775363\n",
            "Iteration 23, inertia 147893.1394047304\n",
            "Iteration 24, inertia 147827.39653938345\n",
            "Iteration 25, inertia 147773.51129188066\n",
            "Iteration 26, inertia 147729.761344016\n",
            "Iteration 27, inertia 147695.13960057363\n",
            "Iteration 28, inertia 147666.38949606623\n",
            "Iteration 29, inertia 147637.54613691883\n",
            "Iteration 30, inertia 147619.82198312442\n",
            "Iteration 31, inertia 147606.03689917512\n",
            "Iteration 32, inertia 147593.8220098146\n",
            "Iteration 33, inertia 147583.67863691965\n",
            "Iteration 34, inertia 147574.5399031682\n",
            "Iteration 35, inertia 147563.67700022954\n",
            "Iteration 36, inertia 147554.6293727831\n",
            "Iteration 37, inertia 147547.02917536744\n",
            "Iteration 38, inertia 147540.04131996905\n",
            "Iteration 39, inertia 147534.23593490204\n",
            "Iteration 40, inertia 147528.9556552306\n",
            "Iteration 41, inertia 147523.4733238049\n",
            "Iteration 42, inertia 147517.15600208566\n",
            "Iteration 43, inertia 147511.92488786377\n",
            "Iteration 44, inertia 147505.30875055204\n",
            "Iteration 45, inertia 147499.1150459632\n",
            "Iteration 46, inertia 147493.06749632512\n",
            "Iteration 47, inertia 147486.95736760105\n",
            "Iteration 48, inertia 147480.29242984083\n",
            "Iteration 49, inertia 147473.594408318\n",
            "Iteration 50, inertia 147468.52554463386\n",
            "Iteration 51, inertia 147463.0836829666\n",
            "Iteration 52, inertia 147456.71759608143\n",
            "Iteration 53, inertia 147449.53870576294\n",
            "Iteration 54, inertia 147441.88337516715\n",
            "Iteration 55, inertia 147432.16854650166\n",
            "Iteration 56, inertia 147417.86541606468\n",
            "Iteration 57, inertia 147397.94953120852\n",
            "Iteration 58, inertia 147378.41773726352\n",
            "Iteration 59, inertia 147358.8461569141\n",
            "Iteration 60, inertia 147326.23717338068\n",
            "Iteration 61, inertia 147276.76861292653\n",
            "Iteration 62, inertia 147209.2279070769\n",
            "Iteration 63, inertia 147131.98270979302\n",
            "Iteration 64, inertia 147034.63104427746\n",
            "Iteration 65, inertia 146957.9174621125\n",
            "Iteration 66, inertia 146896.3606995789\n",
            "Iteration 67, inertia 146833.35491547963\n",
            "Iteration 68, inertia 146779.30013315743\n",
            "Iteration 69, inertia 146731.12471653268\n",
            "Iteration 70, inertia 146697.25453860254\n",
            "Iteration 71, inertia 146667.36590501224\n",
            "Iteration 72, inertia 146638.55482564273\n",
            "Iteration 73, inertia 146615.11280334592\n",
            "Iteration 74, inertia 146594.44527042902\n",
            "Iteration 75, inertia 146578.6040585123\n",
            "Iteration 76, inertia 146564.8986048904\n",
            "Iteration 77, inertia 146551.6786601832\n",
            "Iteration 78, inertia 146538.51198416145\n",
            "Iteration 79, inertia 146524.2242363919\n",
            "Iteration 80, inertia 146510.91090027965\n",
            "Iteration 81, inertia 146497.97505113552\n",
            "Iteration 82, inertia 146487.81249649037\n",
            "Iteration 83, inertia 146478.12313064956\n",
            "Iteration 84, inertia 146469.56525214875\n",
            "Iteration 85, inertia 146461.42237618938\n",
            "Iteration 86, inertia 146454.75877239354\n",
            "Iteration 87, inertia 146450.30765491625\n",
            "Iteration 88, inertia 146446.95499456266\n",
            "Iteration 89, inertia 146444.433156994\n",
            "Iteration 90, inertia 146442.0504151953\n",
            "Iteration 91, inertia 146440.1286249882\n",
            "Iteration 92, inertia 146438.52004741784\n",
            "Iteration 93, inertia 146437.10516876433\n",
            "Iteration 94, inertia 146435.96862869203\n",
            "Iteration 95, inertia 146434.81816864654\n",
            "Iteration 96, inertia 146433.54608073708\n",
            "Iteration 97, inertia 146432.4333798022\n",
            "Iteration 98, inertia 146431.45171316946\n",
            "Iteration 99, inertia 146430.57938285664\n",
            "Iteration 100, inertia 146428.4108773729\n",
            "Iteration 101, inertia 146425.65009940957\n",
            "Iteration 102, inertia 146422.9454049102\n",
            "Iteration 103, inertia 146421.42630601244\n",
            "Iteration 104, inertia 146420.2459239387\n",
            "Iteration 105, inertia 146419.93391975592\n",
            "Iteration 106, inertia 146419.4725217789\n",
            "Iteration 107, inertia 146419.3421232953\n",
            "Iteration 108, inertia 146419.24621613784\n",
            "Iteration 109, inertia 146419.12820465583\n",
            "Converged at iteration 109: center shift 4.9182834579474754e-05 within tolerance 9.999999999999942e-05.\n"
          ]
        }
      ]
    },
    {
      "cell_type": "markdown",
      "source": [
        "We now have a set of cluster labels that group the data into 50 similar groups. Let's store it in our stacked dataset!"
      ],
      "metadata": {
        "id": "XZXYUggc8xex"
      }
    },
    {
      "cell_type": "code",
      "source": [
        "# Let's run this line\n",
        "print(cluster_labels.labels_)\n",
        "stacked['clusters'].values = cluster_labels.labels_"
      ],
      "metadata": {
        "id": "aH0qNHM89GER",
        "colab": {
          "base_uri": "https://localhost:8080/"
        },
        "outputId": "8ad41729-a08f-4a9a-bde9-dd5fa3b15ef8"
      },
      "execution_count": null,
      "outputs": [
        {
          "output_type": "stream",
          "name": "stdout",
          "text": [
            "[13 13  8 ...  6 48  6]\n"
          ]
        }
      ]
    },
    {
      "cell_type": "markdown",
      "source": [
        "We now have a set of labels, but they're stored in a flattened array. Since we'd like to see the data as a map, we still have some work to do. Let's go back to a 2D representation of our values.\n",
        "\n",
        "###**Q10) Turn the flattened xarray back into a set of 2D fields**\n",
        "*Hint*: xarrays have an [`.unstack` method](https://xarray.pydata.org/en/stable/generated/xarray.DataArray.unstack.html) that you will find to be very useful for this."
      ],
      "metadata": {
        "id": "pFPN00oH9oI8"
      }
    },
    {
      "cell_type": "code",
      "source": [
        "# Complete the code:\n",
        "print(stacked.head)\n",
        "processed_ds = stacked.unstack()\n",
        "processed_ds.head"
      ],
      "metadata": {
        "id": "lp1u28inKUNT",
        "colab": {
          "base_uri": "https://localhost:8080/"
        },
        "outputId": "bf5fcf0d-e360-4fbb-c580-4be8d5d26959"
      },
      "execution_count": null,
      "outputs": [
        {
          "output_type": "stream",
          "name": "stdout",
          "text": [
            "<bound method Dataset.head of <xarray.Dataset>\n",
            "Dimensions:   (z: 149714)\n",
            "Coordinates:\n",
            "  * z         (z) MultiIndex\n",
            "  - lon       (z) float64 -180.0 -180.0 -180.0 -180.0 ... 180.0 180.0 180.0\n",
            "  - lat       (z) float64 -79.47 -78.97 -78.47 -77.97 ... 88.5 89.0 89.5 90.0\n",
            "Data variables:\n",
            "    curlTau   (z) float64 -5.138e-11 -1.484e-10 ... -2.467e-11 -1.348e-11\n",
            "    BPT       (z) float64 -6.666e-10 -2.265e-09 ... 1.669e-09 3.525e-10\n",
            "    curlB     (z) float64 1.04e-10 2.855e-10 1.208e-10 ... -1.178e-11 1.27e-11\n",
            "    curlA     (z) float64 2.86e-10 -8.222e-10 2.839e-10 ... -4.587e-10 1.146e-10\n",
            "    curlCori  (z) float64 3.281e-10 2.95e-09 4.353e-09 ... -1.174e-09 -4.647e-10\n",
            "    clusters  (z) int32 13 13 8 46 3 3 42 12 12 20 20 ... 6 6 6 6 6 6 6 6 6 48 6>\n"
          ]
        },
        {
          "output_type": "execute_result",
          "data": {
            "text/plain": [
              "<bound method Dataset.head of <xarray.Dataset>\n",
              "Dimensions:   (lat: 339, lon: 720)\n",
              "Coordinates:\n",
              "  * lon       (lon) float64 -180.0 -179.5 -179.0 -178.5 ... 179.0 179.5 180.0\n",
              "  * lat       (lat) float64 -79.47 -78.97 -78.47 -77.97 ... 65.43 66.43 66.94\n",
              "Data variables:\n",
              "    curlTau   (lon, lat) float64 -5.138e-11 -1.484e-10 4.921e-11 ... nan nan nan\n",
              "    BPT       (lon, lat) float64 -6.666e-10 -2.265e-09 -4.807e-09 ... nan nan\n",
              "    curlB     (lon, lat) float64 1.04e-10 2.855e-10 1.208e-10 ... nan nan nan\n",
              "    curlA     (lon, lat) float64 2.86e-10 -8.222e-10 2.839e-10 ... nan nan nan\n",
              "    curlCori  (lon, lat) float64 3.281e-10 2.95e-09 4.353e-09 ... nan nan nan\n",
              "    clusters  (lon, lat) float64 13.0 13.0 8.0 46.0 3.0 ... nan nan nan nan nan>"
            ]
          },
          "metadata": {},
          "execution_count": 91
        }
      ]
    },
    {
      "cell_type": "markdown",
      "source": [
        "Now we have an unstacked dataset, and can now easily plot out the clusters we found!\n",
        "\n",
        "###**Q11) Plot the 'cluster' variable using the buil-in xarray function**\n",
        "*Hint: `.plot()` [link text](https://xarray.pydata.org/en/stable/generated/xarray.DataArray.plot.html) let's you access the xarray implementations of [`pcolormesh`](https://matplotlib.org/3.1.1/api/_as_gen/matplotlib.pyplot.pcolormesh.html) and [`imshow`](https://matplotlib.org/3.1.1/api/_as_gen/matplotlib.pyplot.imshow.html).*"
      ],
      "metadata": {
        "id": "y4w0zUDn8OOU"
      }
    },
    {
      "cell_type": "code",
      "source": [
        "processed_ds['clusters'].plot.imshow(x=processed_ds['clusters'].dims[0],\n",
        "                                     y=processed_ds['clusters'].dims[1])"
      ],
      "metadata": {
        "id": "DLLCcgw_n3tu",
        "colab": {
          "base_uri": "https://localhost:8080/",
          "height": 303
        },
        "outputId": "58e0aec8-e1aa-4cbc-f77d-9f5e3fed2615"
      },
      "execution_count": null,
      "outputs": [
        {
          "output_type": "execute_result",
          "data": {
            "text/plain": [
              "<matplotlib.image.AxesImage at 0x7fadedb73bd0>"
            ]
          },
          "metadata": {},
          "execution_count": 106
        },
        {
          "output_type": "display_data",
          "data": {
            "text/plain": [
              "<Figure size 432x288 with 2 Axes>"
            ],
            "image/png": "[encoded data removed]"
          },
          "metadata": {
            "needs_background": "light"
          }
        }
      ]
    },
    {
      "cell_type": "markdown",
      "source": [
        "Compare your results to those from the paper:\n",
        "<img src='https://unils-my.sharepoint.com/:i:/g/personal/tom_beucler_unil_ch/EdLh6Ds0yVlFivyfIOXlV74B_G35dVz87GFagzylIG-gZA?download=1'>"
      ],
      "metadata": {
        "id": "sOja6JCxo45g"
      }
    },
    {
      "cell_type": "markdown",
      "source": [
        "We now want to find the 5 most common regimes, and group the rest. This isn't straightforward, so we've gone ahead and prepared the code for you. Run through it and try to understand what the code is doing!"
      ],
      "metadata": {
        "id": "HrLKLVWXtgeX"
      }
    },
    {
      "cell_type": "code",
      "source": [
        "# Make field filled with -1 vals so unprocessed points are easily retrieved.\n",
        "# Noise masked applied automatically by using previously found labels as base.\n",
        "processed_ds['final_clusters'] = (processed_ds.clusters * 0) - 1\n",
        "\n",
        "# Find the 5 most common cluster labels\n",
        "top_clusters = processed_ds.groupby('clusters').count().sortby('BPT').tail(5).clusters.values\n",
        "\n",
        "#Build the set of indices for the cluster data, used for rewriting cluster labels\n",
        "for idx, label in enumerate(top_clusters):\n",
        "    #Find the indices where the label is found\n",
        "    indices = (processed_ds.clusters == label)\n",
        "\n",
        "    processed_ds['final_clusters'].values[indices] = 4-idx\n",
        "\n",
        "# Set the remaining unlabeled regions to category 5 \"non-linear\"\n",
        "processed_ds['final_clusters'].values[processed_ds.final_clusters==-1] = 5\n",
        "\n",
        "# Plot the figure\n",
        "processed_ds.final_clusters.plot.imshow(cmap=mycmap, figsize=(18,8));"
      ],
      "metadata": {
        "id": "UO5OohbKptau"
      },
      "execution_count": null,
      "outputs": []
    },
    {
      "cell_type": "code",
      "source": [
        "# Feel free to use this space "
      ],
      "metadata": {
        "id": "IHSj9yRaUCSg"
      },
      "execution_count": null,
      "outputs": []
    },
    {
      "cell_type": "markdown",
      "source": [
        "Compare it to the regimes found in the paper:\n",
        "<img src='https://unils-my.sharepoint.com/:i:/g/personal/tom_beucler_unil_ch/EehuR9cUfaJImrw4DCAzDPoBiGuG7R3Ys6453Umi1cN_OQ?download=1'>\n",
        "\n"
      ],
      "metadata": {
        "id": "eEMmkpGkc1Xy"
      }
    },
    {
      "cell_type": "markdown",
      "source": [
        "The authors then went on to train neural networks ***to infer in-depth dynamics from data that is largely readily available from for example CMIP6 models, using NN methods to infer the source of predictive skill*** and ***to apply the trained Ensemble MLP to a climate model in order to assess circulation changes under global heating***. \n",
        "\n",
        "For our purposes, however, we will say goodbye to *THOR* at this point 😃"
      ],
      "metadata": {
        "id": "nbWgoD7bv8AH"
      }
    }
  ]
}